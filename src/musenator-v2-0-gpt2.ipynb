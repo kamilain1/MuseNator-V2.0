{
 "cells": [
  {
   "cell_type": "code",
   "execution_count": 1,
   "id": "cf46b5fb",
   "metadata": {
    "_cell_guid": "b1076dfc-b9ad-4769-8c92-a6c4dae69d19",
    "_uuid": "8f2839f25d086af736a60e9eeb907d3b93b6e0e5",
    "execution": {
     "iopub.execute_input": "2023-01-13T09:40:19.176895Z",
     "iopub.status.busy": "2023-01-13T09:40:19.176318Z",
     "iopub.status.idle": "2023-01-13T09:40:33.025167Z",
     "shell.execute_reply": "2023-01-13T09:40:33.024057Z"
    },
    "papermill": {
     "duration": 13.863689,
     "end_time": "2023-01-13T09:40:33.028057",
     "exception": false,
     "start_time": "2023-01-13T09:40:19.164368",
     "status": "completed"
    },
    "tags": []
   },
   "outputs": [
    {
     "name": "stdout",
     "output_type": "stream",
     "text": [
      "\u001b[33mWARNING: Running pip as the 'root' user can result in broken permissions and conflicting behaviour with the system package manager. It is recommended to use a virtual environment instead: https://pip.pypa.io/warnings/venv\u001b[0m\u001b[33m\r\n",
      "\u001b[0m"
     ]
    }
   ],
   "source": [
    "!pip install pretty_midi -q"
   ]
  },
  {
   "cell_type": "code",
   "execution_count": 2,
   "id": "f951479f",
   "metadata": {
    "execution": {
     "iopub.execute_input": "2023-01-13T09:40:33.039612Z",
     "iopub.status.busy": "2023-01-13T09:40:33.039267Z",
     "iopub.status.idle": "2023-01-13T09:40:46.337898Z",
     "shell.execute_reply": "2023-01-13T09:40:46.336899Z"
    },
    "papermill": {
     "duration": 13.307325,
     "end_time": "2023-01-13T09:40:46.340573",
     "exception": false,
     "start_time": "2023-01-13T09:40:33.033248",
     "status": "completed"
    },
    "tags": []
   },
   "outputs": [
    {
     "name": "stderr",
     "output_type": "stream",
     "text": [
      "2023-01-13 09:40:41.004391: I tensorflow/stream_executor/cuda/cuda_gpu_executor.cc:937] successful NUMA node read from SysFS had negative value (-1), but there must be at least one NUMA node, so returning NUMA node zero\n",
      "2023-01-13 09:40:41.005473: I tensorflow/stream_executor/cuda/cuda_gpu_executor.cc:937] successful NUMA node read from SysFS had negative value (-1), but there must be at least one NUMA node, so returning NUMA node zero\n",
      "2023-01-13 09:40:41.006146: I tensorflow/stream_executor/cuda/cuda_gpu_executor.cc:937] successful NUMA node read from SysFS had negative value (-1), but there must be at least one NUMA node, so returning NUMA node zero\n",
      "2023-01-13 09:40:41.008850: I tensorflow/core/platform/cpu_feature_guard.cc:142] This TensorFlow binary is optimized with oneAPI Deep Neural Network Library (oneDNN) to use the following CPU instructions in performance-critical operations:  AVX2 AVX512F FMA\n",
      "To enable them in other operations, rebuild TensorFlow with the appropriate compiler flags.\n",
      "2023-01-13 09:40:41.009165: I tensorflow/stream_executor/cuda/cuda_gpu_executor.cc:937] successful NUMA node read from SysFS had negative value (-1), but there must be at least one NUMA node, so returning NUMA node zero\n",
      "2023-01-13 09:40:41.009916: I tensorflow/stream_executor/cuda/cuda_gpu_executor.cc:937] successful NUMA node read from SysFS had negative value (-1), but there must be at least one NUMA node, so returning NUMA node zero\n",
      "2023-01-13 09:40:41.010580: I tensorflow/stream_executor/cuda/cuda_gpu_executor.cc:937] successful NUMA node read from SysFS had negative value (-1), but there must be at least one NUMA node, so returning NUMA node zero\n",
      "2023-01-13 09:40:45.973153: I tensorflow/stream_executor/cuda/cuda_gpu_executor.cc:937] successful NUMA node read from SysFS had negative value (-1), but there must be at least one NUMA node, so returning NUMA node zero\n",
      "2023-01-13 09:40:45.974059: I tensorflow/stream_executor/cuda/cuda_gpu_executor.cc:937] successful NUMA node read from SysFS had negative value (-1), but there must be at least one NUMA node, so returning NUMA node zero\n",
      "2023-01-13 09:40:45.974732: I tensorflow/stream_executor/cuda/cuda_gpu_executor.cc:937] successful NUMA node read from SysFS had negative value (-1), but there must be at least one NUMA node, so returning NUMA node zero\n",
      "2023-01-13 09:40:45.975324: I tensorflow/core/common_runtime/gpu/gpu_device.cc:1510] Created device /job:localhost/replica:0/task:0/device:GPU:0 with 15043 MB memory:  -> device: 0, name: Tesla P100-PCIE-16GB, pci bus id: 0000:00:04.0, compute capability: 6.0\n"
     ]
    }
   ],
   "source": [
    "import numpy as np\n",
    "import tensorflow as tf\n",
    "import pretty_midi\n",
    "import os\n",
    "import pathlib\n",
    "import matplotlib.pyplot as plt\n",
    "from tqdm.notebook import tqdm\n",
    "import collections\n",
    "\n",
    "from tokenizers.models import BPE\n",
    "from tokenizers import Tokenizer\n",
    "from tokenizers.decoders import ByteLevel as ByteLevelDecoder\n",
    "from tokenizers.normalizers import Sequence, Lowercase\n",
    "from tokenizers.pre_tokenizers import ByteLevel\n",
    "from tokenizers.trainers import BpeTrainer\n",
    "from transformers import GPT2TokenizerFast, GPT2Config,TFGPT2LMHeadModel"
   ]
  },
  {
   "cell_type": "code",
   "execution_count": 3,
   "id": "9147b512",
   "metadata": {
    "execution": {
     "iopub.execute_input": "2023-01-13T09:40:46.353049Z",
     "iopub.status.busy": "2023-01-13T09:40:46.351378Z",
     "iopub.status.idle": "2023-01-13T09:40:46.358691Z",
     "shell.execute_reply": "2023-01-13T09:40:46.357630Z"
    },
    "papermill": {
     "duration": 0.0158,
     "end_time": "2023-01-13T09:40:46.361398",
     "exception": false,
     "start_time": "2023-01-13T09:40:46.345598",
     "status": "completed"
    },
    "tags": []
   },
   "outputs": [
    {
     "name": "stdout",
     "output_type": "stream",
     "text": [
      "2.6.4\n"
     ]
    }
   ],
   "source": [
    "print(tf. __version__)"
   ]
  },
  {
   "cell_type": "code",
   "execution_count": 4,
   "id": "ba0dd65b",
   "metadata": {
    "execution": {
     "iopub.execute_input": "2023-01-13T09:40:46.372807Z",
     "iopub.status.busy": "2023-01-13T09:40:46.372540Z",
     "iopub.status.idle": "2023-01-13T09:40:46.381277Z",
     "shell.execute_reply": "2023-01-13T09:40:46.378791Z"
    },
    "papermill": {
     "duration": 0.017401,
     "end_time": "2023-01-13T09:40:46.384018",
     "exception": false,
     "start_time": "2023-01-13T09:40:46.366617",
     "status": "completed"
    },
    "tags": []
   },
   "outputs": [
    {
     "name": "stdout",
     "output_type": "stream",
     "text": [
      "Not running on TPU\n",
      "REPLICAS:  1\n"
     ]
    }
   ],
   "source": [
    "# random_seed = 42\n",
    "# tf.random.set_seed(random_seed)\n",
    "# np.random.seed(random_seed)\n",
    "\n",
    "AUTO = tf.data.experimental.AUTOTUNE\n",
    "\n",
    "# Detect TPU, return appropriate distribution strategy\n",
    "try:\n",
    "    tpu = tf.distribute.cluster_resolver.TPUClusterResolver() \n",
    "    print('Running on TPU ', tpu.master())\n",
    "except ValueError:\n",
    "    tpu = None\n",
    "    print('Not running on TPU')\n",
    "if tpu:\n",
    "    tf.config.experimental_connect_to_cluster(tpu)\n",
    "    tf.tpu.experimental.initialize_tpu_system(tpu)\n",
    "    strategy = tf.distribute.experimental.TPUStrategy(tpu)\n",
    "    BATCH_SIZE = 4 * strategy.num_replicas_in_sync\n",
    "    print('batch size =', BATCH_SIZE)\n",
    "else:\n",
    "    strategy = tf.distribute.get_strategy() \n",
    "    BATCH_SIZE = 64\n",
    "\n",
    "print(\"REPLICAS: \", strategy.num_replicas_in_sync)\n",
    "\n",
    "NUMBER_OF_PIANO_NOTES = 128\n",
    "SEQ_LENGTH = 100"
   ]
  },
  {
   "cell_type": "code",
   "execution_count": 5,
   "id": "a9366e5f",
   "metadata": {
    "execution": {
     "iopub.execute_input": "2023-01-13T09:40:46.395654Z",
     "iopub.status.busy": "2023-01-13T09:40:46.395383Z",
     "iopub.status.idle": "2023-01-13T09:40:46.406066Z",
     "shell.execute_reply": "2023-01-13T09:40:46.405217Z"
    },
    "papermill": {
     "duration": 0.018681,
     "end_time": "2023-01-13T09:40:46.408105",
     "exception": false,
     "start_time": "2023-01-13T09:40:46.389424",
     "status": "completed"
    },
    "tags": []
   },
   "outputs": [],
   "source": [
    "def get_filenames(directory):\n",
    "    filenames = []\n",
    "    for filename in os.listdir(directory):\n",
    "        f = os.path.join(directory, filename)\n",
    "        if os.path.isfile(f):\n",
    "            filenames.append(f)\n",
    "    return filenames\n",
    "\n",
    "def load_roll(path):\n",
    "    return np.load(path, allow_pickle=True)\n",
    "\n",
    "def save_roll(array_map, path):\n",
    "    np.savez_compressed(path, **array_map)\n",
    "\n",
    "def save_string_notes(directory, name):\n",
    "    filenames = get_filenames(directory)\n",
    "    saved_rolls = {}\n",
    "    files_saved = 0\n",
    "    for index, filename in enumerate(tqdm(filenames)):\n",
    "        pm = pretty_midi.PrettyMIDI(filename)\n",
    "        notes = []\n",
    "        try:\n",
    "            instrument = pm.instruments[0]\n",
    "        except IndexError:\n",
    "            print(\"Skipped\")\n",
    "            continue\n",
    "        sorted_notes = sorted(instrument.notes, key=lambda note: note.start)\n",
    "        if len(sorted_notes) > 100:\n",
    "            prev_start = sorted_notes[0].start\n",
    "            for note in sorted_notes:\n",
    "                notes.append(note.pitch)\n",
    "            saved_rolls[str(index)] = np.array(notes)\n",
    "        if len(saved_rolls) % 5000 == 0 and len(saved_rolls) != 0:\n",
    "            files_saved += 1\n",
    "            save_roll(saved_rolls, name)\n",
    "            print(f\"Saved file {name}\")\n",
    "            saved_rolls = {}\n",
    "    if len(saved_rolls) != 0:\n",
    "        files_saved += 1\n",
    "        save_roll(saved_rolls, name)\n",
    "        print(f\"Saved file {name}\")"
   ]
  },
  {
   "cell_type": "code",
   "execution_count": 6,
   "id": "d1fc5e9a",
   "metadata": {
    "execution": {
     "iopub.execute_input": "2023-01-13T09:40:46.419581Z",
     "iopub.status.busy": "2023-01-13T09:40:46.418988Z",
     "iopub.status.idle": "2023-01-13T09:40:46.440060Z",
     "shell.execute_reply": "2023-01-13T09:40:46.439137Z"
    },
    "papermill": {
     "duration": 0.028897,
     "end_time": "2023-01-13T09:40:46.442022",
     "exception": false,
     "start_time": "2023-01-13T09:40:46.413125",
     "status": "completed"
    },
    "tags": []
   },
   "outputs": [],
   "source": [
    "data = load_roll('/kaggle/input/mozart-v2-npz/mozart_notes_v2.npz')"
   ]
  },
  {
   "cell_type": "code",
   "execution_count": 7,
   "id": "174c8507",
   "metadata": {
    "execution": {
     "iopub.execute_input": "2023-01-13T09:40:46.453521Z",
     "iopub.status.busy": "2023-01-13T09:40:46.453187Z",
     "iopub.status.idle": "2023-01-13T09:40:46.548157Z",
     "shell.execute_reply": "2023-01-13T09:40:46.547024Z"
    },
    "papermill": {
     "duration": 0.103205,
     "end_time": "2023-01-13T09:40:46.550392",
     "exception": false,
     "start_time": "2023-01-13T09:40:46.447187",
     "status": "completed"
    },
    "tags": []
   },
   "outputs": [
    {
     "data": {
      "application/vnd.jupyter.widget-view+json": {
       "model_id": "bebc008a6c9a478ea45e220e0814e24d",
       "version_major": 2,
       "version_minor": 0
      },
      "text/plain": [
       "  0%|          | 0/83 [00:00<?, ?it/s]"
      ]
     },
     "metadata": {},
     "output_type": "display_data"
    }
   ],
   "source": [
    "all_notes = np.empty(0,)\n",
    "for item in tqdm(data.values()):\n",
    "    all_notes = np.append(all_notes, np.concatenate(([128], item, [129])))\n",
    "all_notes = all_notes.astype(np.int32)"
   ]
  },
  {
   "cell_type": "code",
   "execution_count": 8,
   "id": "3d830646",
   "metadata": {
    "execution": {
     "iopub.execute_input": "2023-01-13T09:40:46.565263Z",
     "iopub.status.busy": "2023-01-13T09:40:46.563574Z",
     "iopub.status.idle": "2023-01-13T09:40:46.569607Z",
     "shell.execute_reply": "2023-01-13T09:40:46.568544Z"
    },
    "papermill": {
     "duration": 0.017249,
     "end_time": "2023-01-13T09:40:46.573056",
     "exception": false,
     "start_time": "2023-01-13T09:40:46.555807",
     "status": "completed"
    },
    "tags": []
   },
   "outputs": [
    {
     "name": "stdout",
     "output_type": "stream",
     "text": [
      "343156\n"
     ]
    }
   ],
   "source": [
    "print(len(all_notes))"
   ]
  },
  {
   "cell_type": "code",
   "execution_count": 9,
   "id": "64836132",
   "metadata": {
    "execution": {
     "iopub.execute_input": "2023-01-13T09:40:46.585965Z",
     "iopub.status.busy": "2023-01-13T09:40:46.585149Z",
     "iopub.status.idle": "2023-01-13T09:40:46.600167Z",
     "shell.execute_reply": "2023-01-13T09:40:46.599339Z"
    },
    "papermill": {
     "duration": 0.022995,
     "end_time": "2023-01-13T09:40:46.602167",
     "exception": false,
     "start_time": "2023-01-13T09:40:46.579172",
     "status": "completed"
    },
    "tags": []
   },
   "outputs": [],
   "source": [
    "full_dataset = tf.data.Dataset.from_tensor_slices(all_notes)\n",
    "train_size = int(0.8 * len(all_notes))\n",
    "test_size = int(0.2 * len(all_notes))\n",
    "\n",
    "full_dataset = full_dataset.shuffle(buffer_size=len(all_notes))\n",
    "train_dataset = full_dataset\n",
    "# train_dataset = full_dataset.take(train_size)\n",
    "# test_dataset = full_dataset.skip(train_size)"
   ]
  },
  {
   "cell_type": "code",
   "execution_count": 10,
   "id": "312c0fa2",
   "metadata": {
    "execution": {
     "iopub.execute_input": "2023-01-13T09:40:46.615023Z",
     "iopub.status.busy": "2023-01-13T09:40:46.613421Z",
     "iopub.status.idle": "2023-01-13T09:40:46.983273Z",
     "shell.execute_reply": "2023-01-13T09:40:46.982189Z"
    },
    "papermill": {
     "duration": 0.378397,
     "end_time": "2023-01-13T09:40:46.985809",
     "exception": false,
     "start_time": "2023-01-13T09:40:46.607412",
     "status": "completed"
    },
    "tags": []
   },
   "outputs": [
    {
     "name": "stdout",
     "output_type": "stream",
     "text": [
      "()\n"
     ]
    }
   ],
   "source": [
    "for element in train_dataset:\n",
    "  print(element.shape)\n",
    "  break"
   ]
  },
  {
   "cell_type": "code",
   "execution_count": 11,
   "id": "18f66727",
   "metadata": {
    "execution": {
     "iopub.execute_input": "2023-01-13T09:40:46.997690Z",
     "iopub.status.busy": "2023-01-13T09:40:46.997398Z",
     "iopub.status.idle": "2023-01-13T09:40:47.002757Z",
     "shell.execute_reply": "2023-01-13T09:40:47.001741Z"
    },
    "papermill": {
     "duration": 0.015077,
     "end_time": "2023-01-13T09:40:47.006404",
     "exception": false,
     "start_time": "2023-01-13T09:40:46.991327",
     "status": "completed"
    },
    "tags": []
   },
   "outputs": [
    {
     "name": "stdout",
     "output_type": "stream",
     "text": [
      "343156\n"
     ]
    }
   ],
   "source": [
    "print(len(train_dataset))\n",
    "# print(len(test_dataset))"
   ]
  },
  {
   "cell_type": "code",
   "execution_count": 12,
   "id": "cbd7275a",
   "metadata": {
    "execution": {
     "iopub.execute_input": "2023-01-13T09:40:47.018601Z",
     "iopub.status.busy": "2023-01-13T09:40:47.018328Z",
     "iopub.status.idle": "2023-01-13T09:40:47.024761Z",
     "shell.execute_reply": "2023-01-13T09:40:47.023729Z"
    },
    "papermill": {
     "duration": 0.014743,
     "end_time": "2023-01-13T09:40:47.027146",
     "exception": false,
     "start_time": "2023-01-13T09:40:47.012403",
     "status": "completed"
    },
    "tags": []
   },
   "outputs": [],
   "source": [
    "def create_sequences(dataset, seq_length, vocab_size):\n",
    "  seq_length = seq_length+1\n",
    "\n",
    "  windows = dataset.window(seq_length, shift=1, stride=1, drop_remainder=True)\n",
    "\n",
    "  flatten = lambda x: x.batch(seq_length, drop_remainder=True)\n",
    "  sequences = windows.flat_map(flatten)\n",
    "\n",
    "  def scale_pitch(x):\n",
    "    x = x/[vocab_size]\n",
    "    return x\n",
    "\n",
    "  def split_labels(sequences):\n",
    "    inputs = sequences[:-1]\n",
    "    labels = sequences[1:]\n",
    "\n",
    "#     return scale_pitch(inputs), labels\n",
    "    return inputs, labels\n",
    "\n",
    "\n",
    "  return sequences.map(split_labels, num_parallel_calls=tf.data.AUTOTUNE)"
   ]
  },
  {
   "cell_type": "code",
   "execution_count": 13,
   "id": "698440dd",
   "metadata": {
    "execution": {
     "iopub.execute_input": "2023-01-13T09:40:47.038794Z",
     "iopub.status.busy": "2023-01-13T09:40:47.038537Z",
     "iopub.status.idle": "2023-01-13T09:40:47.121277Z",
     "shell.execute_reply": "2023-01-13T09:40:47.120363Z"
    },
    "papermill": {
     "duration": 0.09163,
     "end_time": "2023-01-13T09:40:47.123904",
     "exception": false,
     "start_time": "2023-01-13T09:40:47.032274",
     "status": "completed"
    },
    "tags": []
   },
   "outputs": [],
   "source": [
    "train_seq = create_sequences(train_dataset, SEQ_LENGTH, NUMBER_OF_PIANO_NOTES)\n",
    "# test_seq = create_sequences(train_dataset, SEQ_LENGTH, NUMBER_OF_PIANO_NOTES)\n",
    "\n",
    "train_loader = (train_seq\n",
    "            .cache()\n",
    "            .repeat()\n",
    "            .batch(BATCH_SIZE, drop_remainder=True)\n",
    "            .prefetch(tf.data.AUTOTUNE))\n",
    "\n",
    "# test_loader = (test_seq\n",
    "#             .repeat()\n",
    "#             .batch(BATCH_SIZE, drop_remainder=True)\n",
    "#             .cache()\n",
    "#             .prefetch(tf.data.experimental.AUTOTUNE))"
   ]
  },
  {
   "cell_type": "code",
   "execution_count": 14,
   "id": "adb16912",
   "metadata": {
    "execution": {
     "iopub.execute_input": "2023-01-13T09:40:47.136597Z",
     "iopub.status.busy": "2023-01-13T09:40:47.135786Z",
     "iopub.status.idle": "2023-01-13T09:40:47.245942Z",
     "shell.execute_reply": "2023-01-13T09:40:47.244325Z"
    },
    "papermill": {
     "duration": 0.118892,
     "end_time": "2023-01-13T09:40:47.248580",
     "exception": false,
     "start_time": "2023-01-13T09:40:47.129688",
     "status": "completed"
    },
    "tags": []
   },
   "outputs": [
    {
     "name": "stderr",
     "output_type": "stream",
     "text": [
      "2023-01-13 09:40:47.169333: W tensorflow/python/util/util.cc:348] Sets are not currently considered sequences, but this may change in the future, so consider avoiding using them.\n"
     ]
    },
    {
     "data": {
      "text/plain": [
       "GPT2Config {\n",
       "  \"activation_function\": \"gelu_new\",\n",
       "  \"attn_pdrop\": 0.1,\n",
       "  \"bos_token_id\": 128,\n",
       "  \"embd_pdrop\": 0.1,\n",
       "  \"eos_token_id\": 129,\n",
       "  \"initializer_range\": 0.02,\n",
       "  \"layer_norm_epsilon\": 1e-05,\n",
       "  \"model_type\": \"gpt2\",\n",
       "  \"n_embd\": 768,\n",
       "  \"n_head\": 12,\n",
       "  \"n_inner\": null,\n",
       "  \"n_layer\": 12,\n",
       "  \"n_positions\": 1024,\n",
       "  \"reorder_and_upcast_attn\": false,\n",
       "  \"resid_pdrop\": 0.1,\n",
       "  \"scale_attn_by_inverse_layer_idx\": false,\n",
       "  \"scale_attn_weights\": true,\n",
       "  \"summary_activation\": null,\n",
       "  \"summary_first_dropout\": 0.1,\n",
       "  \"summary_proj_to_labels\": true,\n",
       "  \"summary_type\": \"cls_index\",\n",
       "  \"summary_use_proj\": true,\n",
       "  \"transformers_version\": \"4.20.1\",\n",
       "  \"use_cache\": false,\n",
       "  \"vocab_size\": 130\n",
       "}"
      ]
     },
     "execution_count": 14,
     "metadata": {},
     "output_type": "execute_result"
    }
   ],
   "source": [
    "input_shape = (SEQ_LENGTH, 1)\n",
    "\n",
    "loss = tf.keras.losses.SparseCategoricalCrossentropy(from_logits=True)\n",
    "optimizer = tf.keras.optimizers.Adam(learning_rate=0.0001,epsilon=1e-08, clipnorm=1.0)\n",
    "metric = tf.keras.metrics.SparseCategoricalAccuracy('accuracy')\n",
    "\n",
    "config = GPT2Config(\n",
    "    vocab_size=130,\n",
    "    bos_token_id=128,\n",
    "    eos_token_id=129,\n",
    "    use_cache=False\n",
    ")\n",
    "model = TFGPT2LMHeadModel(config=config)\n",
    "if tpu:\n",
    "    model.compile(optimizer=optimizer, loss=[loss, *[None] * model.config.n_layer], metrics=[metric], steps_per_execution = 2)\n",
    "else:\n",
    "    model.compile(optimizer=optimizer, loss=[loss, *[None] * model.config.n_layer], metrics=[metric])\n",
    "    \n",
    "model.config    "
   ]
  },
  {
   "cell_type": "code",
   "execution_count": 15,
   "id": "05057bbe",
   "metadata": {
    "execution": {
     "iopub.execute_input": "2023-01-13T09:40:47.261269Z",
     "iopub.status.busy": "2023-01-13T09:40:47.260602Z",
     "iopub.status.idle": "2023-01-13T09:40:47.264732Z",
     "shell.execute_reply": "2023-01-13T09:40:47.263782Z"
    },
    "papermill": {
     "duration": 0.012532,
     "end_time": "2023-01-13T09:40:47.266693",
     "exception": false,
     "start_time": "2023-01-13T09:40:47.254161",
     "status": "completed"
    },
    "tags": []
   },
   "outputs": [],
   "source": [
    "# with strategy.scope():\n",
    "#     load_locally = tf.saved_model.LoadOptions(experimental_io_device='/job:localhost')\n",
    "#     model = tf.keras.models.load_model('/kaggle/input/tpu-ckpt-105-maestro/tpu_ckpt_105_maestro', options=load_locally)\n",
    "#     steps_per_execution = 32\n",
    "#     model.compile(loss=loss, optimizer=opt, steps_per_execution=steps_per_execution)"
   ]
  },
  {
   "cell_type": "code",
   "execution_count": 16,
   "id": "8d4c7690",
   "metadata": {
    "execution": {
     "iopub.execute_input": "2023-01-13T09:40:47.278576Z",
     "iopub.status.busy": "2023-01-13T09:40:47.278285Z",
     "iopub.status.idle": "2023-01-13T09:40:47.283450Z",
     "shell.execute_reply": "2023-01-13T09:40:47.282622Z"
    },
    "papermill": {
     "duration": 0.013393,
     "end_time": "2023-01-13T09:40:47.285394",
     "exception": false,
     "start_time": "2023-01-13T09:40:47.272001",
     "status": "completed"
    },
    "tags": []
   },
   "outputs": [],
   "source": [
    "# model.load_weights('/kaggle/input/training-checkpoints/ckpt_5')"
   ]
  },
  {
   "cell_type": "code",
   "execution_count": 17,
   "id": "90d6a171",
   "metadata": {
    "execution": {
     "iopub.execute_input": "2023-01-13T09:40:47.297557Z",
     "iopub.status.busy": "2023-01-13T09:40:47.296820Z",
     "iopub.status.idle": "2023-01-13T09:40:47.303414Z",
     "shell.execute_reply": "2023-01-13T09:40:47.302593Z"
    },
    "papermill": {
     "duration": 0.014658,
     "end_time": "2023-01-13T09:40:47.305378",
     "exception": false,
     "start_time": "2023-01-13T09:40:47.290720",
     "status": "completed"
    },
    "tags": []
   },
   "outputs": [],
   "source": [
    "if tpu:\n",
    "    save_locally = tf.saved_model.SaveOptions(experimental_io_device='/job:localhost')\n",
    "    checkpoints = tf.keras.callbacks.ModelCheckpoint('tpu_checkpoints', options=save_locally)\n",
    "else:\n",
    "    checkpoints = tf.keras.callbacks.ModelCheckpoint(filepath='training_checkpoints/ckpt_{epoch}', save_weights_only=True)\n",
    "    \n",
    "es = tf.keras.callbacks.EarlyStopping(monitor='loss', patience=2, verbose=2, restore_best_weights=True),\n",
    "\n",
    "callbacks = [\n",
    "    checkpoints,\n",
    "    es,\n",
    "]\n",
    "\n",
    "epochs = 5"
   ]
  },
  {
   "cell_type": "code",
   "execution_count": 18,
   "id": "18a53d25",
   "metadata": {
    "execution": {
     "iopub.execute_input": "2023-01-13T09:40:47.317310Z",
     "iopub.status.busy": "2023-01-13T09:40:47.316576Z",
     "iopub.status.idle": "2023-01-13T14:52:40.325269Z",
     "shell.execute_reply": "2023-01-13T14:52:40.324247Z"
    },
    "papermill": {
     "duration": 18713.016956,
     "end_time": "2023-01-13T14:52:40.327530",
     "exception": false,
     "start_time": "2023-01-13T09:40:47.310574",
     "status": "completed"
    },
    "tags": []
   },
   "outputs": [
    {
     "name": "stderr",
     "output_type": "stream",
     "text": [
      "2023-01-13 09:40:47.337345: I tensorflow/compiler/mlir/mlir_graph_optimization_pass.cc:185] None of the MLIR Optimization Passes are enabled (registered 2)\n"
     ]
    },
    {
     "name": "stdout",
     "output_type": "stream",
     "text": [
      "Epoch 1/5\n",
      "5361/5361 [==============================] - 3756s 698ms/step - loss: 3.8703 - accuracy: 0.0398\n",
      "Epoch 2/5\n",
      "5361/5361 [==============================] - 3737s 697ms/step - loss: 3.8580 - accuracy: 0.0413\n",
      "Epoch 3/5\n",
      "5361/5361 [==============================] - 3736s 697ms/step - loss: 3.8549 - accuracy: 0.0419\n",
      "Epoch 4/5\n",
      "5361/5361 [==============================] - 3735s 697ms/step - loss: 3.8535 - accuracy: 0.0422\n",
      "Epoch 5/5\n",
      "5361/5361 [==============================] - 3736s 697ms/step - loss: 3.8527 - accuracy: 0.0423\n"
     ]
    },
    {
     "data": {
      "image/png": "[encoded data removed]",
      "text/plain": [
       "<Figure size 432x288 with 1 Axes>"
      ]
     },
     "metadata": {
      "needs_background": "light"
     },
     "output_type": "display_data"
    }
   ],
   "source": [
    "history = model.fit(\n",
    "  train_loader,\n",
    "  steps_per_epoch= len(train_dataset) // BATCH_SIZE,\n",
    "#   validation_data = test_loader,\n",
    "#   validation_steps = len(test_dataset) // BATCH_SIZE,\n",
    "  epochs=epochs,\n",
    "  callbacks=callbacks,\n",
    ")\n",
    "\n",
    "plt.plot(history.epoch, history.history['loss'], label=f'train loss')\n",
    "# plt.plot(history.epoch, history.history['val_loss'], label=f'val loss')\n",
    "plt.legend()\n",
    "plt.show()"
   ]
  },
  {
   "cell_type": "code",
   "execution_count": 19,
   "id": "ea5b1e94",
   "metadata": {
    "execution": {
     "iopub.execute_input": "2023-01-13T14:52:43.496177Z",
     "iopub.status.busy": "2023-01-13T14:52:43.495817Z",
     "iopub.status.idle": "2023-01-13T14:52:43.505988Z",
     "shell.execute_reply": "2023-01-13T14:52:43.505049Z"
    },
    "papermill": {
     "duration": 1.540096,
     "end_time": "2023-01-13T14:52:43.507900",
     "exception": false,
     "start_time": "2023-01-13T14:52:41.967804",
     "status": "completed"
    },
    "tags": []
   },
   "outputs": [],
   "source": [
    "def notes_to_midi(notes, out_file, is_original: bool=False, velocity = 100, step = 0.2, duration = 0.4):\n",
    "\n",
    "  pm = pretty_midi.PrettyMIDI()\n",
    "  instrument = pretty_midi.Instrument(\n",
    "      program=pretty_midi.instrument_name_to_program(\n",
    "          \"Acoustic Grand Piano\")\n",
    "      )\n",
    "\n",
    "  prev_start = 0\n",
    "  for note in notes:\n",
    "    start = float(prev_start + step)\n",
    "    end = float(start + duration)\n",
    "    if is_original is True:\n",
    "        input_pitch=int(note)\n",
    "    else:\n",
    "        input_pitch = int(note)\n",
    "    note = pretty_midi.Note(\n",
    "        velocity=velocity,\n",
    "        pitch=input_pitch,\n",
    "        start=start,\n",
    "        end=end,\n",
    "    )\n",
    "    instrument.notes.append(note)\n",
    "    prev_start = start\n",
    "\n",
    "  pm.instruments.append(instrument)\n",
    "  pm.write(out_file)\n",
    "  return pm\n",
    "\n",
    "def midi_to_notes(path):\n",
    "    saved_rolls = 0\n",
    "    pm = pretty_midi.PrettyMIDI(path)\n",
    "    notes = []\n",
    "    try:\n",
    "        instrument = pm.instruments[0]\n",
    "    except IndexError:\n",
    "        print(\"Skipped\")\n",
    "        return None\n",
    "    sorted_notes = sorted(instrument.notes, key=lambda note: note.start)\n",
    "    if len(sorted_notes) > 100:\n",
    "        prev_start = sorted_notes[0].start\n",
    "        for note in sorted_notes:\n",
    "            notes.append(note.pitch)\n",
    "        saved_rolls = np.array(notes)\n",
    "    if len(saved_rolls) % 5000 == 0 and len(saved_rolls) != 0:\n",
    "        files_saved += 1\n",
    "    return saved_rolls"
   ]
  },
  {
   "cell_type": "code",
   "execution_count": 20,
   "id": "bc60d72c",
   "metadata": {
    "execution": {
     "iopub.execute_input": "2023-01-13T14:52:46.979564Z",
     "iopub.status.busy": "2023-01-13T14:52:46.978978Z",
     "iopub.status.idle": "2023-01-13T14:52:57.657751Z",
     "shell.execute_reply": "2023-01-13T14:52:57.656396Z"
    },
    "papermill": {
     "duration": 12.590039,
     "end_time": "2023-01-13T14:52:57.659961",
     "exception": false,
     "start_time": "2023-01-13T14:52:45.069922",
     "status": "completed"
    },
    "tags": []
   },
   "outputs": [
    {
     "name": "stderr",
     "output_type": "stream",
     "text": [
      "The attention mask and the pad token id were not set. As a consequence, you may observe unexpected behavior. Please pass your input's `attention_mask` to obtain reliable results.\n",
      "Setting `pad_token_id` to 129 (first `eos_token_id`) to generate sequence\n"
     ]
    },
    {
     "name": "stdout",
     "output_type": "stream",
     "text": [
      "(1, 200)\n",
      "tf.Tensor(\n",
      "[[63 52 41 63 62 76 74 74 82 82 65 73 59 69 70 57 60 68 64 58 74 65 77 82\n",
      "  67 65 64 72 79 52 74 50 72 64 48 79 79 70 53 77 68 78 74 81 69 59 74 71\n",
      "  53 83 67 64 49 50 64 57 67 76 83 72 62 67 73 63 72 64 55 69 59 70 63 79\n",
      "  55 56 51 69 55 63 78 74 78 51 72 82 61 82 79 65 65 68 52 69 82 48 81 74\n",
      "  61 51 48 55]], shape=(1, 100), dtype=int32)\n"
     ]
    }
   ],
   "source": [
    "seed = midi_to_notes('/kaggle/input/mozart-v2/Wolfgang Amadeus Mozart/Mozart Wolfgang Amadeus Allegro in C minor K.Anh.44_426a rGJcCF4aS3c.mid')\n",
    "input_ids = tf.cast(np.concatenate(([128], seed[100:199])).reshape(1, -1), dtype=tf.int32)\n",
    "# output = model.generate(seed, max_length = 500, num_beams = 2, temperature = 1, no_repeat_ngram_size=2, num_return_sequences=1)\\\n",
    "\n",
    "outputs = model.generate(\n",
    "    input_ids,\n",
    "    do_sample=True, \n",
    "    max_length=200, \n",
    "    top_k=50, \n",
    "    top_p=0.95, \n",
    "    num_return_sequences=1\n",
    ")\n",
    "print(outputs.shape)\n",
    "generated = outputs[:, 100:]\n",
    "print(generated)\n",
    "# original = notes_to_midi(seed, f'original_test.mid', is_original=True) \n",
    "# generated = notes_to_midi(predict_sequence(seed, model, num_predictions = 200, temperature = 1), f'generated_test.mid', step = 0.25, duration = 0.4)"
   ]
  },
  {
   "cell_type": "code",
   "execution_count": 21,
   "id": "6f8583b4",
   "metadata": {
    "execution": {
     "iopub.execute_input": "2023-01-13T14:53:00.580907Z",
     "iopub.status.busy": "2023-01-13T14:53:00.580555Z",
     "iopub.status.idle": "2023-01-13T14:53:00.626970Z",
     "shell.execute_reply": "2023-01-13T14:53:00.625877Z"
    },
    "papermill": {
     "duration": 1.451031,
     "end_time": "2023-01-13T14:53:00.629278",
     "exception": false,
     "start_time": "2023-01-13T14:52:59.178247",
     "status": "completed"
    },
    "tags": []
   },
   "outputs": [
    {
     "data": {
      "text/plain": [
       "<pretty_midi.pretty_midi.PrettyMIDI at 0x7fcce04382d0>"
      ]
     },
     "execution_count": 21,
     "metadata": {},
     "output_type": "execute_result"
    }
   ],
   "source": [
    "notes_to_midi(seed, f'original_test.mid', is_original=True)                                     \n",
    "notes_to_midi(np.array(generated).reshape(-1), f'generated_test.mid', step = 0.2, duration = 0.4)"
   ]
  },
  {
   "cell_type": "code",
   "execution_count": null,
   "id": "9a402fcc",
   "metadata": {
    "papermill": {
     "duration": 1.697795,
     "end_time": "2023-01-13T14:53:03.872231",
     "exception": false,
     "start_time": "2023-01-13T14:53:02.174436",
     "status": "completed"
    },
    "tags": []
   },
   "outputs": [],
   "source": []
  }
 ],
 "metadata": {
  "kernelspec": {
   "display_name": "Python 3",
   "language": "python",
   "name": "python3"
  },
  "language_info": {
   "codemirror_mode": {
    "name": "ipython",
    "version": 3
   },
   "file_extension": ".py",
   "mimetype": "text/x-python",
   "name": "python",
   "nbconvert_exporter": "python",
   "pygments_lexer": "ipython3",
   "version": "3.7.12"
  },
  "papermill": {
   "default_parameters": {},
   "duration": 18776.910623,
   "end_time": "2023-01-13T14:53:08.403569",
   "environment_variables": {},
   "exception": null,
   "input_path": "__notebook__.ipynb",
   "output_path": "__notebook__.ipynb",
   "parameters": {},
   "start_time": "2023-01-13T09:40:11.492946",
   "version": "2.3.4"
  },
  "widgets": {
   "application/vnd.jupyter.widget-state+json": {
    "state": {
     "1b55ef3180cb4ad080a1f61bbe66412d": {
      "model_module": "@jupyter-widgets/controls",
      "model_module_version": "1.5.0",
      "model_name": "DescriptionStyleModel",
      "state": {
       "_model_module": "@jupyter-widgets/controls",
       "_model_module_version": "1.5.0",
       "_model_name": "DescriptionStyleModel",
       "_view_count": null,
       "_view_module": "@jupyter-widgets/base",
       "_view_module_version": "1.2.0",
       "_view_name": "StyleView",
       "description_width": ""
      }
     },
     "7ccdd15fb37041cfb0ab432e15b530ee": {
      "model_module": "@jupyter-widgets/base",
      "model_module_version": "1.2.0",
      "model_name": "LayoutModel",
      "state": {
       "_model_module": "@jupyter-widgets/base",
       "_model_module_version": "1.2.0",
       "_model_name": "LayoutModel",
       "_view_count": null,
       "_view_module": "@jupyter-widgets/base",
       "_view_module_version": "1.2.0",
       "_view_name": "LayoutView",
       "align_content": null,
       "align_items": null,
       "align_self": null,
       "border": null,
       "bottom": null,
       "display": null,
       "flex": null,
       "flex_flow": null,
       "grid_area": null,
       "grid_auto_columns": null,
       "grid_auto_flow": null,
       "grid_auto_rows": null,
       "grid_column": null,
       "grid_gap": null,
       "grid_row": null,
       "grid_template_areas": null,
       "grid_template_columns": null,
       "grid_template_rows": null,
       "height": null,
       "justify_content": null,
       "justify_items": null,
       "left": null,
       "margin": null,
       "max_height": null,
       "max_width": null,
       "min_height": null,
       "min_width": null,
       "object_fit": null,
       "object_position": null,
       "order": null,
       "overflow": null,
       "overflow_x": null,
       "overflow_y": null,
       "padding": null,
       "right": null,
       "top": null,
       "visibility": null,
       "width": null
      }
     },
     "8fa7e9049fe54955ac3a3634a5ac81c8": {
      "model_module": "@jupyter-widgets/controls",
      "model_module_version": "1.5.0",
      "model_name": "DescriptionStyleModel",
      "state": {
       "_model_module": "@jupyter-widgets/controls",
       "_model_module_version": "1.5.0",
       "_model_name": "DescriptionStyleModel",
       "_view_count": null,
       "_view_module": "@jupyter-widgets/base",
       "_view_module_version": "1.2.0",
       "_view_name": "StyleView",
       "description_width": ""
      }
     },
     "92291aff6f624bdd8f5fcf357b7f6865": {
      "model_module": "@jupyter-widgets/controls",
      "model_module_version": "1.5.0",
      "model_name": "HTMLModel",
      "state": {
       "_dom_classes": [],
       "_model_module": "@jupyter-widgets/controls",
       "_model_module_version": "1.5.0",
       "_model_name": "HTMLModel",
       "_view_count": null,
       "_view_module": "@jupyter-widgets/controls",
       "_view_module_version": "1.5.0",
       "_view_name": "HTMLView",
       "description": "",
       "description_tooltip": null,
       "layout": "IPY_MODEL_ed005ef2f3db44f38153b6cf5ecd261c",
       "placeholder": "​",
       "style": "IPY_MODEL_1b55ef3180cb4ad080a1f61bbe66412d",
       "value": "100%"
      }
     },
     "b412a1f5f80c4d7caf5753c9f2f7a24b": {
      "model_module": "@jupyter-widgets/controls",
      "model_module_version": "1.5.0",
      "model_name": "ProgressStyleModel",
      "state": {
       "_model_module": "@jupyter-widgets/controls",
       "_model_module_version": "1.5.0",
       "_model_name": "ProgressStyleModel",
       "_view_count": null,
       "_view_module": "@jupyter-widgets/base",
       "_view_module_version": "1.2.0",
       "_view_name": "StyleView",
       "bar_color": null,
       "description_width": ""
      }
     },
     "bebc008a6c9a478ea45e220e0814e24d": {
      "model_module": "@jupyter-widgets/controls",
      "model_module_version": "1.5.0",
      "model_name": "HBoxModel",
      "state": {
       "_dom_classes": [],
       "_model_module": "@jupyter-widgets/controls",
       "_model_module_version": "1.5.0",
       "_model_name": "HBoxModel",
       "_view_count": null,
       "_view_module": "@jupyter-widgets/controls",
       "_view_module_version": "1.5.0",
       "_view_name": "HBoxView",
       "box_style": "",
       "children": [
        "IPY_MODEL_92291aff6f624bdd8f5fcf357b7f6865",
        "IPY_MODEL_c37d5b0067964e1ca4175b2bede3fe45",
        "IPY_MODEL_fabdf563e0ad4946a93187f4fbcd1c2b"
       ],
       "layout": "IPY_MODEL_e7e2c55746c54f71b7445b9ed45f93e5"
      }
     },
     "c37d5b0067964e1ca4175b2bede3fe45": {
      "model_module": "@jupyter-widgets/controls",
      "model_module_version": "1.5.0",
      "model_name": "FloatProgressModel",
      "state": {
       "_dom_classes": [],
       "_model_module": "@jupyter-widgets/controls",
       "_model_module_version": "1.5.0",
       "_model_name": "FloatProgressModel",
       "_view_count": null,
       "_view_module": "@jupyter-widgets/controls",
       "_view_module_version": "1.5.0",
       "_view_name": "ProgressView",
       "bar_style": "success",
       "description": "",
       "description_tooltip": null,
       "layout": "IPY_MODEL_d0e2cbb934e249a1a0e146e63aa90347",
       "max": 83.0,
       "min": 0.0,
       "orientation": "horizontal",
       "style": "IPY_MODEL_b412a1f5f80c4d7caf5753c9f2f7a24b",
       "value": 83.0
      }
     },
     "d0e2cbb934e249a1a0e146e63aa90347": {
      "model_module": "@jupyter-widgets/base",
      "model_module_version": "1.2.0",
      "model_name": "LayoutModel",
      "state": {
       "_model_module": "@jupyter-widgets/base",
       "_model_module_version": "1.2.0",
       "_model_name": "LayoutModel",
       "_view_count": null,
       "_view_module": "@jupyter-widgets/base",
       "_view_module_version": "1.2.0",
       "_view_name": "LayoutView",
       "align_content": null,
       "align_items": null,
       "align_self": null,
       "border": null,
       "bottom": null,
       "display": null,
       "flex": null,
       "flex_flow": null,
       "grid_area": null,
       "grid_auto_columns": null,
       "grid_auto_flow": null,
       "grid_auto_rows": null,
       "grid_column": null,
       "grid_gap": null,
       "grid_row": null,
       "grid_template_areas": null,
       "grid_template_columns": null,
       "grid_template_rows": null,
       "height": null,
       "justify_content": null,
       "justify_items": null,
       "left": null,
       "margin": null,
       "max_height": null,
       "max_width": null,
       "min_height": null,
       "min_width": null,
       "object_fit": null,
       "object_position": null,
       "order": null,
       "overflow": null,
       "overflow_x": null,
       "overflow_y": null,
       "padding": null,
       "right": null,
       "top": null,
       "visibility": null,
       "width": null
      }
     },
     "e7e2c55746c54f71b7445b9ed45f93e5": {
      "model_module": "@jupyter-widgets/base",
      "model_module_version": "1.2.0",
      "model_name": "LayoutModel",
      "state": {
       "_model_module": "@jupyter-widgets/base",
       "_model_module_version": "1.2.0",
       "_model_name": "LayoutModel",
       "_view_count": null,
       "_view_module": "@jupyter-widgets/base",
       "_view_module_version": "1.2.0",
       "_view_name": "LayoutView",
       "align_content": null,
       "align_items": null,
       "align_self": null,
       "border": null,
       "bottom": null,
       "display": null,
       "flex": null,
       "flex_flow": null,
       "grid_area": null,
       "grid_auto_columns": null,
       "grid_auto_flow": null,
       "grid_auto_rows": null,
       "grid_column": null,
       "grid_gap": null,
       "grid_row": null,
       "grid_template_areas": null,
       "grid_template_columns": null,
       "grid_template_rows": null,
       "height": null,
       "justify_content": null,
       "justify_items": null,
       "left": null,
       "margin": null,
       "max_height": null,
       "max_width": null,
       "min_height": null,
       "min_width": null,
       "object_fit": null,
       "object_position": null,
       "order": null,
       "overflow": null,
       "overflow_x": null,
       "overflow_y": null,
       "padding": null,
       "right": null,
       "top": null,
       "visibility": null,
       "width": null
      }
     },
     "ed005ef2f3db44f38153b6cf5ecd261c": {
      "model_module": "@jupyter-widgets/base",
      "model_module_version": "1.2.0",
      "model_name": "LayoutModel",
      "state": {
       "_model_module": "@jupyter-widgets/base",
       "_model_module_version": "1.2.0",
       "_model_name": "LayoutModel",
       "_view_count": null,
       "_view_module": "@jupyter-widgets/base",
       "_view_module_version": "1.2.0",
       "_view_name": "LayoutView",
       "align_content": null,
       "align_items": null,
       "align_self": null,
       "border": null,
       "bottom": null,
       "display": null,
       "flex": null,
       "flex_flow": null,
       "grid_area": null,
       "grid_auto_columns": null,
       "grid_auto_flow": null,
       "grid_auto_rows": null,
       "grid_column": null,
       "grid_gap": null,
       "grid_row": null,
       "grid_template_areas": null,
       "grid_template_columns": null,
       "grid_template_rows": null,
       "height": null,
       "justify_content": null,
       "justify_items": null,
       "left": null,
       "margin": null,
       "max_height": null,
       "max_width": null,
       "min_height": null,
       "min_width": null,
       "object_fit": null,
       "object_position": null,
       "order": null,
       "overflow": null,
       "overflow_x": null,
       "overflow_y": null,
       "padding": null,
       "right": null,
       "top": null,
       "visibility": null,
       "width": null
      }
     },
     "fabdf563e0ad4946a93187f4fbcd1c2b": {
      "model_module": "@jupyter-widgets/controls",
      "model_module_version": "1.5.0",
      "model_name": "HTMLModel",
      "state": {
       "_dom_classes": [],
       "_model_module": "@jupyter-widgets/controls",
       "_model_module_version": "1.5.0",
       "_model_name": "HTMLModel",
       "_view_count": null,
       "_view_module": "@jupyter-widgets/controls",
       "_view_module_version": "1.5.0",
       "_view_name": "HTMLView",
       "description": "",
       "description_tooltip": null,
       "layout": "IPY_MODEL_7ccdd15fb37041cfb0ab432e15b530ee",
       "placeholder": "​",
       "style": "IPY_MODEL_8fa7e9049fe54955ac3a3634a5ac81c8",
       "value": " 83/83 [00:00&lt;00:00, 976.72it/s]"
      }
     }
    },
    "version_major": 2,
    "version_minor": 0
   }
  }
 },
 "nbformat": 4,
 "nbformat_minor": 5
}
